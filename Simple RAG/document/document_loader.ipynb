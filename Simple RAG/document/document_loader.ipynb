{
 "cells": [
  {
   "cell_type": "markdown",
   "id": "4531f634",
   "metadata": {},
   "source": [
    "### Data Ingestion"
   ]
  },
  {
   "cell_type": "code",
   "execution_count": null,
   "id": "0fc7d96a",
   "metadata": {},
   "outputs": [],
   "source": [
    "#Document Structure\n",
    "\n",
    "from langchain_core.documents import Document"
   ]
  },
  {
   "cell_type": "code",
   "execution_count": 2,
   "id": "aa8546ae",
   "metadata": {},
   "outputs": [
    {
     "data": {
      "text/plain": [
       "Document(metadata={'source': 'example.txt', 'pages': 1, 'author': 'Vedant', 'date_created': '2030-01-01'}, page_content='This is the main page content for the RAG system.')"
      ]
     },
     "execution_count": 2,
     "metadata": {},
     "output_type": "execute_result"
    }
   ],
   "source": [
    "doc=Document(\n",
    "    page_content=\"This is the main page content for the RAG system.\",\n",
    "    metadata={\n",
    "        \"source\":\"example.txt\",\n",
    "        \"pages\":1,\n",
    "        \"author\":\"Vedant\",\n",
    "        \"date_created\":\"2030-01-01\"\n",
    "    }\n",
    ")\n",
    "doc"
   ]
  },
  {
   "cell_type": "code",
   "execution_count": 3,
   "id": "c62c4037",
   "metadata": {},
   "outputs": [],
   "source": [
    "# Create a simple txt file\n",
    "import os\n",
    "os.makedirs(\"../data/text_files\",exist_ok=True)"
   ]
  },
  {
   "cell_type": "code",
   "execution_count": 4,
   "id": "3034428b",
   "metadata": {},
   "outputs": [
    {
     "name": "stdout",
     "output_type": "stream",
     "text": [
      "✅ Sample text files created!\n"
     ]
    }
   ],
   "source": [
    "sample_texts={\n",
    "    \"../data/text_files/python_intro.txt\":\"\"\"Python Programming Introduction\n",
    "\n",
    "Python is a high-level, interpreted programming language known for its simplicity and readability.\n",
    "Created by Guido van Rossum and first released in 1991, Python has become one of the most popular\n",
    "programming languages in the world.\n",
    "\n",
    "Key Features:\n",
    "- Easy to learn and use\n",
    "- Extensive standard library\n",
    "- Cross-platform compatibility\n",
    "- Strong community support\n",
    "\n",
    "Python is widely used in web development, data science, artificial intelligence, and automation.\"\"\",\n",
    "    \n",
    "    \"../data/text_files/machine_learning.txt\": \"\"\"Machine Learning Basics\n",
    "\n",
    "Machine learning is a subset of artificial intelligence that enables systems to learn and improve\n",
    "from experience without being explicitly programmed. It focuses on developing computer programs\n",
    "that can access data and use it to learn for themselves.\n",
    "\n",
    "Types of Machine Learning:\n",
    "1. Supervised Learning: Learning with labeled data\n",
    "2. Unsupervised Learning: Finding patterns in unlabeled data\n",
    "3. Reinforcement Learning: Learning through rewards and penalties\n",
    "\n",
    "Applications include image recognition, speech processing, and recommendation systems\n",
    "    \n",
    "    \n",
    "    \"\"\"\n",
    "\n",
    "}\n",
    "\n",
    "for filepath,content in sample_texts.items():\n",
    "    with open(filepath,'w',encoding=\"utf-8\") as f:\n",
    "        f.write(content)\n",
    "\n",
    "print(\"✅ Sample text files created!\")"
   ]
  },
  {
   "cell_type": "code",
   "execution_count": 6,
   "id": "ac27e9ff",
   "metadata": {},
   "outputs": [
    {
     "name": "stderr",
     "output_type": "stream",
     "text": [
      "/Users/rahul/Desktop/Complete RAG/.venv/lib/python3.13/site-packages/tqdm/auto.py:21: TqdmWarning: IProgress not found. Please update jupyter and ipywidgets. See https://ipywidgets.readthedocs.io/en/stable/user_install.html\n",
      "  from .autonotebook import tqdm as notebook_tqdm\n"
     ]
    },
    {
     "name": "stdout",
     "output_type": "stream",
     "text": [
      "[Document(metadata={'source': '../data/text_files/python_intro.txt'}, page_content='Python Programming Introduction\\n\\nPython is a high-level, interpreted programming language known for its simplicity and readability.\\nCreated by Guido van Rossum and first released in 1991, Python has become one of the most popular\\nprogramming languages in the world.\\n\\nKey Features:\\n- Easy to learn and use\\n- Extensive standard library\\n- Cross-platform compatibility\\n- Strong community support\\n\\nPython is widely used in web development, data science, artificial intelligence, and automation.')]\n"
     ]
    }
   ],
   "source": [
    "# TextLoader\n",
    "#from langchain.document_loaders import TextLoader\n",
    "\n",
    "from langchain_community.document_loaders import TextLoader\n",
    "\n",
    "loader=TextLoader(\"../data/text_files/python_intro.txt\",encoding=\"utf-8\")\n",
    "document=loader.load()\n",
    "print(document)"
   ]
  },
  {
   "cell_type": "code",
   "execution_count": 7,
   "id": "05f9547c",
   "metadata": {},
   "outputs": [
    {
     "data": {
      "text/plain": [
       "[Document(metadata={'source': '../data/text_files/python_intro.txt'}, page_content='Python Programming Introduction\\n\\nPython is a high-level, interpreted programming language known for its simplicity and readability.\\nCreated by Guido van Rossum and first released in 1991, Python has become one of the most popular\\nprogramming languages in the world.\\n\\nKey Features:\\n- Easy to learn and use\\n- Extensive standard library\\n- Cross-platform compatibility\\n- Strong community support\\n\\nPython is widely used in web development, data science, artificial intelligence, and automation.'),\n",
       " Document(metadata={'source': '../data/text_files/machine_learning.txt'}, page_content='Machine Learning Basics\\n\\nMachine learning is a subset of artificial intelligence that enables systems to learn and improve\\nfrom experience without being explicitly programmed. It focuses on developing computer programs\\nthat can access data and use it to learn for themselves.\\n\\nTypes of Machine Learning:\\n1. Supervised Learning: Learning with labeled data\\n2. Unsupervised Learning: Finding patterns in unlabeled data\\n3. Reinforcement Learning: Learning through rewards and penalties\\n\\nApplications include image recognition, speech processing, and recommendation systems\\n\\n\\n    ')]"
      ]
     },
     "execution_count": 7,
     "metadata": {},
     "output_type": "execute_result"
    }
   ],
   "source": [
    "# Directory Loader\n",
    "from langchain_community.document_loaders import DirectoryLoader\n",
    "\n",
    "# Load all the text files from the directory\n",
    "dir_loader=DirectoryLoader(\n",
    "    \"../data/text_files\",\n",
    "    glob=\"**/*.txt\", # Pattern to match files  \n",
    "    loader_cls= TextLoader, #loader class to use\n",
    "    loader_kwargs={'encoding': 'utf-8'},\n",
    "    show_progress=False\n",
    "\n",
    ")\n",
    "\n",
    "documents=dir_loader.load()\n",
    "documents"
   ]
  },
  {
   "cell_type": "code",
   "execution_count": 8,
   "id": "bc3d9d01",
   "metadata": {},
   "outputs": [
    {
     "data": {
      "text/plain": [
       "[Document(metadata={'producer': 'Skia/PDF m142 Google Docs Renderer', 'creator': '', 'creationdate': '', 'source': '../data/pdf/DJS Compute DA & ML Task 1.pdf', 'file_path': '../data/pdf/DJS Compute DA & ML Task 1.pdf', 'total_pages': 2, 'format': 'PDF 1.4', 'title': 'DJS Compute DA & ML Task 1', 'author': '', 'subject': '', 'keywords': '', 'moddate': '', 'trapped': '', 'modDate': '', 'creationDate': '', 'page': 0}, page_content='DJS Compute - DA & ML Task 1 \\n \\nData: \\nhttps://drive.google.com/file/d/1Dtw-B_hont8b8s_vhl-ecDNNtsHtM91J/view?usp=drive_link \\n \\nTask: \\n●\\u200b Perform appropriate preprocessing and classification on the given dataset.  \\n●\\u200b Identify if the data is imbalanced and apply appropriate measures to handle it like \\nSMOTE and feature extraction.  \\n●\\u200b Perform Imputation based on Imputers available on Scikit Learn. \\n●\\u200b Use bagging and boosting techniques.  \\n●\\u200b Perform LDA and QDA on the dataset. \\n●\\u200b Heavily reference the scikit-learn documentation as well as reference videos and use \\ntechniques like Pipelines, Column Transformers and hyper parameter tuning.  \\n●\\u200b Compare different approaches to scaling and imputing and analyze how they affect the \\nmodel performance.  \\n●\\u200b Evaluate the model using multiple metrics and justify which ones are most appropriate to \\nuse in the given scenario. \\nThe use of comments to explain your code is mandatory. The code can be AI generated. The \\ncomments should not be. \\n \\nReferences: \\nDocumentation:\\u200b\\nhttps://imbalanced-learn.org/stable/references/under_sampling.html \\nhttps://imbalanced-learn.org/stable/references/over_sampling.html \\nhttps://scikit-learn.org/stable/api/index.html'),\n",
       " Document(metadata={'producer': 'Skia/PDF m142 Google Docs Renderer', 'creator': '', 'creationdate': '', 'source': '../data/pdf/DJS Compute DA & ML Task 1.pdf', 'file_path': '../data/pdf/DJS Compute DA & ML Task 1.pdf', 'total_pages': 2, 'format': 'PDF 1.4', 'title': 'DJS Compute DA & ML Task 1', 'author': '', 'subject': '', 'keywords': '', 'moddate': '', 'trapped': '', 'modDate': '', 'creationDate': '', 'page': 1}, page_content='Videos: \\nIntro to Scikit-Learn - https://youtu.be/SIEaLBXr0rk?si=bfIWbYL9zBkjAHPm \\nHyperparameter Tuning - https://www.youtube.com/watch?v=LrCylIe0RJM \\nHandling Class Imbalances - https://youtu.be/flhjn6e6wnY?si=ELzIHiHarhF488cd \\nIntro to sklearn-ColumnTransformer - https://youtu.be/yBLNbeKbFKI?si=Gv3J0g-Wb_ZpijBz \\nIntro to sklearn-Pipeline - https://www.youtube.com/watch?v=T9ETsSD1I0w \\nFeature Scaling - https://www.youtube.com/watch?v=6eJHk8JYK2M \\nSimpleImputer - https://www.youtube.com/watch?v=0Hsj0h-tXAY \\nClassification Metrics - \\nhttps://www.youtube.com/watch?v=5vqk6HnITko&list=PLiteiKUvOPTelAIiquq5-VKFguUJpv1BT \\nLDA - https://youtu.be/azXCzI57Yfc?si=TT7TW_Yk5I0dncS_ \\n \\n \\n \\nDeadline: 30th September, 2025'),\n",
       " Document(metadata={'producer': '', 'creator': 'Microsoft Word', 'creationdate': '2025-10-05T13:26:17+00:00', 'source': '../data/pdf/DJS Compute DA & ML Task 2.pdf', 'file_path': '../data/pdf/DJS Compute DA & ML Task 2.pdf', 'total_pages': 3, 'format': 'PDF 1.7', 'title': '', 'author': '', 'subject': '', 'keywords': '', 'moddate': '2025-10-05T13:26:17+00:00', 'trapped': '', 'modDate': \"D:20251005132617+00'00'\", 'creationDate': \"D:20251005132617+00'00'\", 'page': 0}, page_content='DJS Compute - DA & ML Task 2 \\n \\nData : \\nhttps://drive.google.com/file/d/1dJEbm6rSl1pr0mH5d0k5_WXHsSjGMAZs/view?usp=drivesdk \\n \\nTask: \\n⇒ PART ONE: \\n● Perform appropriate preprocessing and deep EDA on the given dataset, just like the \\nprevious task. This includes things like handling Nans, analyzing relationships, feature \\nencoding, Scaling, Normalizing and other similar methods.   \\n● Before Clustering, use PCA(Principal Component Analysis) as a dimensionality \\nreduction technique. For better intuition, you can set the n_components parameter to 2/3 \\nand then plot the Principal Component axes using a 2D/3D scatterplot  to scout for \\npotential clusters. \\n● Perform the following clustering techniques: \\ni) \\nK-Means: Tune the number of clusters (k) using the Elbow method and Silhouette score \\nplots. \\nii) \\nHierarchical Clustering: Use a dendrogram to visually determine the optimal number of \\nclusters. \\niii) \\nDBSCAN: Use a k-distance plot to find an appropriate value for the eps parameter. \\niv) \\nHDBSCAN: Tune min_cluster_size by setting it to the smallest meaningful group size, \\nor by finding the value that maximizes the DBCV score. \\n● For every clustering experiment you run, calculate a suite of quantitative metrics \\nincluding the Silhouette Score, Davies-Bouldin Index (DBI), and Calinski-Harabasz (CH) \\nScore. \\n● For your single best-performing model, move beyond metrics to interpretation. Profile \\neach cluster by calculating its central tendencies (mean/median for numeric features, \\nmode for categorical features) and visualize these differences to create insightful, \\ndescriptive personas (Ex:- Cluster 1: Cautious High-Earners).'),\n",
       " Document(metadata={'producer': '', 'creator': 'Microsoft Word', 'creationdate': '2025-10-05T13:26:17+00:00', 'source': '../data/pdf/DJS Compute DA & ML Task 2.pdf', 'file_path': '../data/pdf/DJS Compute DA & ML Task 2.pdf', 'total_pages': 3, 'format': 'PDF 1.7', 'title': '', 'author': '', 'subject': '', 'keywords': '', 'moddate': '2025-10-05T13:26:17+00:00', 'trapped': '', 'modDate': \"D:20251005132617+00'00'\", 'creationDate': \"D:20251005132617+00'00'\", 'page': 1}, page_content=\"⇒ PART TWO: \\nBefore building the final application, you will validate your understanding of clustering \\nalgorithms by testing them on simple, synthetic datasets where the ground truth is known. \\n● Create synthetic datasets using sklearn functions like make_blobs/make_moons and be \\nsure to experiment with their parameters as well. Heavily reference the sklearn \\ndocumentation for getting familiar with all the parameters. \\n● For more clarity, use visual plots to see how different parameter combinations affect the \\ncluster formations. \\n● STREAMLIT DEPLOYMENT: \\nThe app that you make should reference the synthetic dataset which you created and must \\nhave the following deliverables: \\n○ Feature Scaling Options: Include a select box for preprocessing, allowing a choice \\nbetween different scalers like 'StandardScaler', 'MinMaxScaler', 'RobustScaler', or 'None'. \\n○ Algorithm Choice: Create a dropdown menu for selecting the clustering algorithm (Ex:-\\n'K-Means', 'DBSCAN', 'Agglomerative', 'HDBSCAN'). \\n○ Dynamic Hyperparameters: Display interactive widgets (sliders are best) for the chosen \\nalgorithm's specific parameters, such as k for K-Means or eps for DBSCAN,etc. \\n○ Interactive Visualization: Render the output as a Plotly scatter plot where each point's \\ncolor corresponds to its assigned cluster label. \\n○ Performance Metrics: Show key evaluation metrics like the Silhouette Score to provide \\na quantitative measure of the clustering quality. \\n- \\nAs you wanna view the Plotly scatterplot in 2D/3D make sure to manipulate the - \\n‘n_features’ parameter accordingly while making you synthetic dataset. \\n‘make_moons’ can only create a 2D dataset, so you don’t need to worry about that if \\nyou’re using this function. \\n- \\nNOTE : Keep the datapoint range for the synthetic dataset preferably between 500-\\n2000, as we don’t want unnecessary latency in the deployed app. \\n- \\nThe Streamlit deployment is only to be done for PART TWO. \\n \\nThe use of comments to explain your code is mandatory. The code can be AI generated. The \\ncomments should not be.\"),\n",
       " Document(metadata={'producer': '', 'creator': 'Microsoft Word', 'creationdate': '2025-10-05T13:26:17+00:00', 'source': '../data/pdf/DJS Compute DA & ML Task 2.pdf', 'file_path': '../data/pdf/DJS Compute DA & ML Task 2.pdf', 'total_pages': 3, 'format': 'PDF 1.7', 'title': '', 'author': '', 'subject': '', 'keywords': '', 'moddate': '2025-10-05T13:26:17+00:00', 'trapped': '', 'modDate': \"D:20251005132617+00'00'\", 'creationDate': \"D:20251005132617+00'00'\", 'page': 2}, page_content='References: \\nDocumentation: \\nRefer directly from scikit-learn’s website. \\n \\nVideos: \\nPCA : https://www.youtube.com/watch?v=FD4DeN81ODY \\nIntro to Unsupervised : https://www.youtube.com/watch?v=5yeJ03crTrI \\nK-Means : https://www.youtube.com/watch?v=4b5d3muPQmA \\nHierarchical : https://www.youtube.com/watch?v=7xHsRkOdVwo \\nDBSCAN : https://www.youtube.com/watch?v=RDZUdRSDOok \\nHDBSCAN : https://www.youtube.com/watch?v=dGsxd67IFiU \\nElbow Method : https://www.youtube.com/watch?v=ht7geyMAFfA \\nStreamlit Deployment : https://www.youtube.com/watch?v=D0D4Pa22iG0&t=603s \\n \\n \\n \\nDeadline: 14th October, 2025'),\n",
       " Document(metadata={'producer': '', 'creator': 'Microsoft Word', 'creationdate': '2025-10-20T17:40:42+00:00', 'source': '../data/pdf/DJS Compute DA & ML Gen AI Task 1.pdf', 'file_path': '../data/pdf/DJS Compute DA & ML Gen AI Task 1.pdf', 'total_pages': 2, 'format': 'PDF 1.7', 'title': '', 'author': '', 'subject': '', 'keywords': '', 'moddate': '2025-10-20T17:40:42+00:00', 'trapped': '', 'modDate': \"D:20251020174042+00'00'\", 'creationDate': \"D:20251020174042+00'00'\", 'page': 0}, page_content='DJS Compute - DA & ML : Gen AI Task 1 \\n \\nLEARNING: \\nThings about LLMS: \\n- Tokenization  \\n- Parameters (Model size)  \\n- Context windows  \\n- System prompt v/s User prompt  \\n- Few shot prompting  \\n \\nWhere to find and run LLMs: \\n- Open source v/s Closed source LLMs - \\nhttps://www.youtube.com/watch?v=710PDpuLwOc \\nhttps://www.youtube.com/watch?v=QQ1bnrTchYM \\n- Huggingface v/s Ollama  \\n- APIs  \\n \\nThe practical side: \\n- API pricing for LLMs (Important)  \\n- Base vs Instruct-tuned LLMs  \\n- Maximizing LLM performance (Very Important) -'),\n",
       " Document(metadata={'producer': '', 'creator': 'Microsoft Word', 'creationdate': '2025-10-20T17:40:42+00:00', 'source': '../data/pdf/DJS Compute DA & ML Gen AI Task 1.pdf', 'file_path': '../data/pdf/DJS Compute DA & ML Gen AI Task 1.pdf', 'total_pages': 2, 'format': 'PDF 1.7', 'title': '', 'author': '', 'subject': '', 'keywords': '', 'moddate': '2025-10-20T17:40:42+00:00', 'trapped': '', 'modDate': \"D:20251020174042+00'00'\", 'creationDate': \"D:20251020174042+00'00'\", 'page': 1}, page_content='LLM Leaderboards to check out: \\n- Vellum  \\n- Huggingface OpenLLM  \\n \\n \\nTASK : \\n● Experiment creating a chatbot using different inference methods: \\n- Ollama(locally) \\n- Huggingface transformers (Library) \\n- Gemini/Groq API \\n● REFERENCES : \\n- Ollama \\n- Huggingface Transformers \\n- Groq \\n- Gemini \\n \\nNOTE : The procedure to call and use LLMs even through different \\nmethods is pretty similar and once you do it a couple of times, it’s pretty \\nintuitive. What’s important is knowing the difference between using \\nmodels through UI as a consumer v/s What LLM APIs are, and how \\ntheir inference costs work. After completing this task, also try to \\nintegrate ‘Gradio’ using AI, which is just like Streamlit but for Chatbots. \\n \\nDeadline: 31st October, 2025')]"
      ]
     },
     "execution_count": 8,
     "metadata": {},
     "output_type": "execute_result"
    }
   ],
   "source": [
    "from langchain_community.document_loaders import PyPDFLoader, PyMuPDFLoader\n",
    "\n",
    "## load all the text files from the directory\n",
    "dir_loader=DirectoryLoader(\n",
    "    \"../data/pdf\",\n",
    "    glob=\"**/*.pdf\", ## Pattern to match files  \n",
    "    loader_cls= PyMuPDFLoader, ##loader class to use\n",
    "    show_progress=False\n",
    "\n",
    ")\n",
    "\n",
    "pdf_documents=dir_loader.load()\n",
    "pdf_documents"
   ]
  },
  {
   "cell_type": "code",
   "execution_count": 9,
   "id": "3e070bfc",
   "metadata": {},
   "outputs": [
    {
     "data": {
      "text/plain": [
       "langchain_core.documents.base.Document"
      ]
     },
     "execution_count": 9,
     "metadata": {},
     "output_type": "execute_result"
    }
   ],
   "source": [
    "type(pdf_documents[0])"
   ]
  },
  {
   "cell_type": "code",
   "execution_count": null,
   "id": "3e32c88a",
   "metadata": {},
   "outputs": [],
   "source": []
  }
 ],
 "metadata": {
  "kernelspec": {
   "display_name": "Complete RAG",
   "language": "python",
   "name": "python3"
  },
  "language_info": {
   "codemirror_mode": {
    "name": "ipython",
    "version": 3
   },
   "file_extension": ".py",
   "mimetype": "text/x-python",
   "name": "python",
   "nbconvert_exporter": "python",
   "pygments_lexer": "ipython3",
   "version": "3.13.7"
  }
 },
 "nbformat": 4,
 "nbformat_minor": 5
}
